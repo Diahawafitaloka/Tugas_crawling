{
  "nbformat": 4,
  "nbformat_minor": 0,
  "metadata": {
    "colab": {
      "name": "Tugas_BI_Crawling_Vita.ipynb",
      "provenance": []
    },
    "kernelspec": {
      "name": "python3",
      "display_name": "Python 3"
    }
  },
  "cells": [
    {
      "cell_type": "code",
      "metadata": {
        "id": "7tAPZz7AB6vV"
      },
      "source": [
        "# Import the libraries\n",
        "import tweepy\n",
        "from textblob import TextBlob\n",
        "from wordcloud import WordCloud\n",
        "import pandas as pd\n",
        "import numpy as np\n",
        "import re\n",
        "import matplotlib.pyplot as plt\n",
        "plt.style.use('fivethirtyeight')"
      ],
      "execution_count": 1,
      "outputs": []
    },
    {
      "cell_type": "code",
      "metadata": {
        "id": "AykqEiA7CF3X"
      },
      "source": [
        "consumer_key = \"8gkozHxDwmXsvgLvqXMBWcx9T\"\n",
        "consumer_secret = \"ycxz3P69xHVYUNY6ViqvYVxAuahB886yLSF4qTxCJ46NnR8tIH\"\n",
        "access_token = \"1331481154189361153-S55qEPfYnPzwLIMFLUonKFt9Z9H3hX\"\n",
        "access_token_secret = \"i3S0tbdBqBSxtC32UVGZt8VGjFMlFwDUvkeUkEVfiSrfS\"\n",
        "\n",
        "# Create the authentication object\n",
        "authenticate = tweepy.OAuthHandler(consumer_key, consumer_secret) \n",
        "    \n",
        "# Set the access token and access token secret\n",
        "authenticate.set_access_token(access_token, access_token_secret) \n",
        "    \n",
        "# Creating the API object while passing in auth information\n",
        "api = tweepy.API(authenticate, wait_on_rate_limit = True)"
      ],
      "execution_count": 2,
      "outputs": []
    },
    {
      "cell_type": "code",
      "metadata": {
        "colab": {
          "base_uri": "https://localhost:8080/"
        },
        "id": "gd2SjUaQCfSk",
        "outputId": "5d6f0d43-72f7-4b97-af7c-f1132e570f0d"
      },
      "source": [
        "# Extract  100 tweets from the twitter user\n",
        "posts = api.user_timeline(screen_name=\"America\", count = 200, lang =\"en\", tweet_mode=\"extended\")\n",
        "\n",
        "#  Print the last 10 tweets\n",
        "print(\"Show the 10 recent tweets:\\n\")\n",
        "i=1\n",
        "for tweet in posts[:10]:\n",
        "    print(str(i) +') '+ tweet.full_text + '\\n')\n",
        "    i= i+1"
      ],
      "execution_count": 26,
      "outputs": [
        {
          "output_type": "stream",
          "text": [
            "Show the 10 recent tweets:\n",
            "\n",
            "1) Where else is it supposed to go? https://t.co/bbQQ1b6h40\n",
            "\n",
            "2) None worth dying for https://t.co/VyaN8ZteIT\n",
            "\n",
            "3) @realDonaldTrump So your plan is to.....pretend theres not a problem? How original\n",
            "\n",
            "4) @funder This is egregious and is absolutely anti American.\n",
            "\n",
            "5) @elonmusk Freedom is not the question here, its safety.  You're irresponsible.  Are you even a full time resident?\n",
            "\n",
            "6) These are tough times. Hold tight to your values,  they will always guide you in the end\n",
            "\n",
            "7) Physical distancing\n",
            "\n",
            "8) @YG_Ayce 😣😣😣😣😣😣😣😣\n",
            "\n",
            "9) Quarantine Day 376:  sewed an extra Star on the flag in Case Florida tries to Secede from itself.\n",
            "\n",
            "10) @curvyandcaramel I lost count.\n",
            "\n"
          ],
          "name": "stdout"
        }
      ]
    },
    {
      "cell_type": "code",
      "metadata": {
        "colab": {
          "base_uri": "https://localhost:8080/",
          "height": 204
        },
        "id": "lLuLvNHBETSX",
        "outputId": "39add470-816f-4a46-de13-8b323a265557"
      },
      "source": [
        "# Create a dataframe with a column called Tweets\n",
        "df = pd.DataFrame([tweet.full_text for tweet in posts], columns=['Tweets'])\n",
        "# Show the first 10 rows of data\n",
        "df.head()"
      ],
      "execution_count": 27,
      "outputs": [
        {
          "output_type": "execute_result",
          "data": {
            "text/html": [
              "<div>\n",
              "<style scoped>\n",
              "    .dataframe tbody tr th:only-of-type {\n",
              "        vertical-align: middle;\n",
              "    }\n",
              "\n",
              "    .dataframe tbody tr th {\n",
              "        vertical-align: top;\n",
              "    }\n",
              "\n",
              "    .dataframe thead th {\n",
              "        text-align: right;\n",
              "    }\n",
              "</style>\n",
              "<table border=\"1\" class=\"dataframe\">\n",
              "  <thead>\n",
              "    <tr style=\"text-align: right;\">\n",
              "      <th></th>\n",
              "      <th>Tweets</th>\n",
              "    </tr>\n",
              "  </thead>\n",
              "  <tbody>\n",
              "    <tr>\n",
              "      <th>0</th>\n",
              "      <td>Where else is it supposed to go? https://t.co/...</td>\n",
              "    </tr>\n",
              "    <tr>\n",
              "      <th>1</th>\n",
              "      <td>None worth dying for https://t.co/VyaN8ZteIT</td>\n",
              "    </tr>\n",
              "    <tr>\n",
              "      <th>2</th>\n",
              "      <td>@realDonaldTrump So your plan is to.....preten...</td>\n",
              "    </tr>\n",
              "    <tr>\n",
              "      <th>3</th>\n",
              "      <td>@funder This is egregious and is absolutely an...</td>\n",
              "    </tr>\n",
              "    <tr>\n",
              "      <th>4</th>\n",
              "      <td>@elonmusk Freedom is not the question here, it...</td>\n",
              "    </tr>\n",
              "  </tbody>\n",
              "</table>\n",
              "</div>"
            ],
            "text/plain": [
              "                                              Tweets\n",
              "0  Where else is it supposed to go? https://t.co/...\n",
              "1       None worth dying for https://t.co/VyaN8ZteIT\n",
              "2  @realDonaldTrump So your plan is to.....preten...\n",
              "3  @funder This is egregious and is absolutely an...\n",
              "4  @elonmusk Freedom is not the question here, it..."
            ]
          },
          "metadata": {
            "tags": []
          },
          "execution_count": 27
        }
      ]
    },
    {
      "cell_type": "code",
      "metadata": {
        "colab": {
          "base_uri": "https://localhost:8080/",
          "height": 419
        },
        "id": "BANnjgkmEkz_",
        "outputId": "0b0c6755-8918-41cc-f814-ff3eea020e71"
      },
      "source": [
        "# Create a function to clean the tweets\n",
        "def cleanTxt(text):\n",
        " text = re.sub('@[A-Za-z0–9]+', '', text) #Removing @mentions\n",
        " text = re.sub('#', '', text) # Removing '#' hash tag\n",
        " text = re.sub('RT[\\s]+', '', text) # Removing RT\n",
        " text = re.sub('https?:\\/\\/\\S+', '', text) # Removing hyperlink\n",
        " \n",
        " return text\n",
        "\n",
        "\n",
        "# Clean the tweets\n",
        "df['Tweets'] = df['Tweets'].apply(cleanTxt)\n",
        "\n",
        "# Show the cleaned tweets\n",
        "df"
      ],
      "execution_count": 28,
      "outputs": [
        {
          "output_type": "execute_result",
          "data": {
            "text/html": [
              "<div>\n",
              "<style scoped>\n",
              "    .dataframe tbody tr th:only-of-type {\n",
              "        vertical-align: middle;\n",
              "    }\n",
              "\n",
              "    .dataframe tbody tr th {\n",
              "        vertical-align: top;\n",
              "    }\n",
              "\n",
              "    .dataframe thead th {\n",
              "        text-align: right;\n",
              "    }\n",
              "</style>\n",
              "<table border=\"1\" class=\"dataframe\">\n",
              "  <thead>\n",
              "    <tr style=\"text-align: right;\">\n",
              "      <th></th>\n",
              "      <th>Tweets</th>\n",
              "    </tr>\n",
              "  </thead>\n",
              "  <tbody>\n",
              "    <tr>\n",
              "      <th>0</th>\n",
              "      <td>Where else is it supposed to go?</td>\n",
              "    </tr>\n",
              "    <tr>\n",
              "      <th>1</th>\n",
              "      <td>None worth dying for</td>\n",
              "    </tr>\n",
              "    <tr>\n",
              "      <th>2</th>\n",
              "      <td>So your plan is to.....pretend theres not a p...</td>\n",
              "    </tr>\n",
              "    <tr>\n",
              "      <th>3</th>\n",
              "      <td>This is egregious and is absolutely anti Amer...</td>\n",
              "    </tr>\n",
              "    <tr>\n",
              "      <th>4</th>\n",
              "      <td>Freedom is not the question here, its safety....</td>\n",
              "    </tr>\n",
              "    <tr>\n",
              "      <th>...</th>\n",
              "      <td>...</td>\n",
              "    </tr>\n",
              "    <tr>\n",
              "      <th>190</th>\n",
              "      <td>Gotta do what I gotta do. Word to my nigga Dri...</td>\n",
              "    </tr>\n",
              "    <tr>\n",
              "      <th>191</th>\n",
              "      <td>My nigga, I just told you I'm not racist. I'm ...</td>\n",
              "    </tr>\n",
              "    <tr>\n",
              "      <th>192</th>\n",
              "      <td>: u right fam.. u always right</td>\n",
              "    </tr>\n",
              "    <tr>\n",
              "      <th>193</th>\n",
              "      <td>I've been subtweeting black folks since the 60...</td>\n",
              "    </tr>\n",
              "    <tr>\n",
              "      <th>194</th>\n",
              "      <td>I prefer \"realist\" honestly.</td>\n",
              "    </tr>\n",
              "  </tbody>\n",
              "</table>\n",
              "<p>195 rows × 1 columns</p>\n",
              "</div>"
            ],
            "text/plain": [
              "                                                Tweets\n",
              "0                    Where else is it supposed to go? \n",
              "1                                None worth dying for \n",
              "2     So your plan is to.....pretend theres not a p...\n",
              "3     This is egregious and is absolutely anti Amer...\n",
              "4     Freedom is not the question here, its safety....\n",
              "..                                                 ...\n",
              "190  Gotta do what I gotta do. Word to my nigga Dri...\n",
              "191  My nigga, I just told you I'm not racist. I'm ...\n",
              "192                    : u right fam.. u always right \n",
              "193  I've been subtweeting black folks since the 60...\n",
              "194                      I prefer \"realist\" honestly. \n",
              "\n",
              "[195 rows x 1 columns]"
            ]
          },
          "metadata": {
            "tags": []
          },
          "execution_count": 28
        }
      ]
    },
    {
      "cell_type": "code",
      "metadata": {
        "colab": {
          "base_uri": "https://localhost:8080/",
          "height": 419
        },
        "id": "eCI0W-y2E93w",
        "outputId": "da469a69-cb32-47ea-e6fa-0c318282cd4f"
      },
      "source": [
        "# Create a function to get the subjectivity\n",
        "def getSubjectivity(text):\n",
        "   return TextBlob(text).sentiment.subjectivity\n",
        "\n",
        "# Create a function to get the polarity\n",
        "def getPolarity(text):\n",
        "   return  TextBlob(text).sentiment.polarity\n",
        "\n",
        "\n",
        "# Create two new columns 'Subjectivity' & 'Polarity'\n",
        "df['Subjectivity'] = df['Tweets'].apply(getSubjectivity)\n",
        "df['Polarity'] = df['Tweets'].apply(getPolarity)\n",
        "\n",
        "\n",
        "# Show the new dataframe with columns 'Subjectivity' & 'Polarity'\n",
        "df"
      ],
      "execution_count": 30,
      "outputs": [
        {
          "output_type": "execute_result",
          "data": {
            "text/html": [
              "<div>\n",
              "<style scoped>\n",
              "    .dataframe tbody tr th:only-of-type {\n",
              "        vertical-align: middle;\n",
              "    }\n",
              "\n",
              "    .dataframe tbody tr th {\n",
              "        vertical-align: top;\n",
              "    }\n",
              "\n",
              "    .dataframe thead th {\n",
              "        text-align: right;\n",
              "    }\n",
              "</style>\n",
              "<table border=\"1\" class=\"dataframe\">\n",
              "  <thead>\n",
              "    <tr style=\"text-align: right;\">\n",
              "      <th></th>\n",
              "      <th>Tweets</th>\n",
              "      <th>Subjectivity</th>\n",
              "      <th>Polarity</th>\n",
              "    </tr>\n",
              "  </thead>\n",
              "  <tbody>\n",
              "    <tr>\n",
              "      <th>0</th>\n",
              "      <td>Where else is it supposed to go?</td>\n",
              "      <td>0.000000</td>\n",
              "      <td>0.000000</td>\n",
              "    </tr>\n",
              "    <tr>\n",
              "      <th>1</th>\n",
              "      <td>None worth dying for</td>\n",
              "      <td>0.100000</td>\n",
              "      <td>0.300000</td>\n",
              "    </tr>\n",
              "    <tr>\n",
              "      <th>2</th>\n",
              "      <td>So your plan is to.....pretend theres not a p...</td>\n",
              "      <td>0.750000</td>\n",
              "      <td>0.375000</td>\n",
              "    </tr>\n",
              "    <tr>\n",
              "      <th>3</th>\n",
              "      <td>This is egregious and is absolutely anti Amer...</td>\n",
              "      <td>0.450000</td>\n",
              "      <td>0.100000</td>\n",
              "    </tr>\n",
              "    <tr>\n",
              "      <th>4</th>\n",
              "      <td>Freedom is not the question here, its safety....</td>\n",
              "      <td>0.550000</td>\n",
              "      <td>0.350000</td>\n",
              "    </tr>\n",
              "    <tr>\n",
              "      <th>...</th>\n",
              "      <td>...</td>\n",
              "      <td>...</td>\n",
              "      <td>...</td>\n",
              "    </tr>\n",
              "    <tr>\n",
              "      <th>190</th>\n",
              "      <td>Gotta do what I gotta do. Word to my nigga Dri...</td>\n",
              "      <td>0.000000</td>\n",
              "      <td>0.000000</td>\n",
              "    </tr>\n",
              "    <tr>\n",
              "      <th>191</th>\n",
              "      <td>My nigga, I just told you I'm not racist. I'm ...</td>\n",
              "      <td>0.517857</td>\n",
              "      <td>0.250000</td>\n",
              "    </tr>\n",
              "    <tr>\n",
              "      <th>192</th>\n",
              "      <td>: u right fam.. u always right</td>\n",
              "      <td>0.535714</td>\n",
              "      <td>0.285714</td>\n",
              "    </tr>\n",
              "    <tr>\n",
              "      <th>193</th>\n",
              "      <td>I've been subtweeting black folks since the 60...</td>\n",
              "      <td>0.433333</td>\n",
              "      <td>-0.166667</td>\n",
              "    </tr>\n",
              "    <tr>\n",
              "      <th>194</th>\n",
              "      <td>I prefer \"realist\" honestly.</td>\n",
              "      <td>0.900000</td>\n",
              "      <td>0.600000</td>\n",
              "    </tr>\n",
              "  </tbody>\n",
              "</table>\n",
              "<p>195 rows × 3 columns</p>\n",
              "</div>"
            ],
            "text/plain": [
              "                                                Tweets  Subjectivity  Polarity\n",
              "0                    Where else is it supposed to go?       0.000000  0.000000\n",
              "1                                None worth dying for       0.100000  0.300000\n",
              "2     So your plan is to.....pretend theres not a p...      0.750000  0.375000\n",
              "3     This is egregious and is absolutely anti Amer...      0.450000  0.100000\n",
              "4     Freedom is not the question here, its safety....      0.550000  0.350000\n",
              "..                                                 ...           ...       ...\n",
              "190  Gotta do what I gotta do. Word to my nigga Dri...      0.000000  0.000000\n",
              "191  My nigga, I just told you I'm not racist. I'm ...      0.517857  0.250000\n",
              "192                    : u right fam.. u always right       0.535714  0.285714\n",
              "193  I've been subtweeting black folks since the 60...      0.433333 -0.166667\n",
              "194                      I prefer \"realist\" honestly.       0.900000  0.600000\n",
              "\n",
              "[195 rows x 3 columns]"
            ]
          },
          "metadata": {
            "tags": []
          },
          "execution_count": 30
        }
      ]
    },
    {
      "cell_type": "code",
      "metadata": {
        "colab": {
          "base_uri": "https://localhost:8080/",
          "height": 248
        },
        "id": "0Euns1RXFFW5",
        "outputId": "39386a2b-eda5-4695-c459-4a325617822e"
      },
      "source": [
        "# word cloud visualization\n",
        "allWords = ' '.join([twts for twts in df['Tweets']])\n",
        "wordCloud = WordCloud(width=900, height=700, random_state=21, max_font_size=500).generate(allWords)\n",
        "\n",
        "\n",
        "plt.imshow(wordCloud, interpolation=\"bilinear\")\n",
        "plt.axis('off')\n",
        "plt.show()"
      ],
      "execution_count": 33,
      "outputs": [
        {
          "output_type": "display_data",
          "data": {
            "image/png": "[encoded data removed]",
            "text/plain": [
              "<Figure size 432x288 with 1 Axes>"
            ]
          },
          "metadata": {
            "tags": [],
            "needs_background": "light"
          }
        }
      ]
    },
    {
      "cell_type": "code",
      "metadata": {
        "colab": {
          "base_uri": "https://localhost:8080/",
          "height": 419
        },
        "id": "5WUkbSERFgPY",
        "outputId": "b22f79cc-3b0c-49b1-a338-e6f82a9ebcb0"
      },
      "source": [
        "# Create a function to compute negative (-1), neutral (0) and positive (+1) analysis\n",
        "def getAnalysis(score):\n",
        " if score < 0:\n",
        "  return 'Negative'\n",
        " elif score == 0:\n",
        "  return 'Neutral'\n",
        " else:\n",
        "  return 'Positive'\n",
        "df['Analysis'] = df['Polarity'].apply(getAnalysis)\n",
        "# Show the dataframe\n",
        "df"
      ],
      "execution_count": 34,
      "outputs": [
        {
          "output_type": "execute_result",
          "data": {
            "text/html": [
              "<div>\n",
              "<style scoped>\n",
              "    .dataframe tbody tr th:only-of-type {\n",
              "        vertical-align: middle;\n",
              "    }\n",
              "\n",
              "    .dataframe tbody tr th {\n",
              "        vertical-align: top;\n",
              "    }\n",
              "\n",
              "    .dataframe thead th {\n",
              "        text-align: right;\n",
              "    }\n",
              "</style>\n",
              "<table border=\"1\" class=\"dataframe\">\n",
              "  <thead>\n",
              "    <tr style=\"text-align: right;\">\n",
              "      <th></th>\n",
              "      <th>Tweets</th>\n",
              "      <th>Subjectivity</th>\n",
              "      <th>Polarity</th>\n",
              "      <th>Analysis</th>\n",
              "    </tr>\n",
              "  </thead>\n",
              "  <tbody>\n",
              "    <tr>\n",
              "      <th>0</th>\n",
              "      <td>Where else is it supposed to go?</td>\n",
              "      <td>0.000000</td>\n",
              "      <td>0.000000</td>\n",
              "      <td>Neutral</td>\n",
              "    </tr>\n",
              "    <tr>\n",
              "      <th>1</th>\n",
              "      <td>None worth dying for</td>\n",
              "      <td>0.100000</td>\n",
              "      <td>0.300000</td>\n",
              "      <td>Positive</td>\n",
              "    </tr>\n",
              "    <tr>\n",
              "      <th>2</th>\n",
              "      <td>So your plan is to.....pretend theres not a p...</td>\n",
              "      <td>0.750000</td>\n",
              "      <td>0.375000</td>\n",
              "      <td>Positive</td>\n",
              "    </tr>\n",
              "    <tr>\n",
              "      <th>3</th>\n",
              "      <td>This is egregious and is absolutely anti Amer...</td>\n",
              "      <td>0.450000</td>\n",
              "      <td>0.100000</td>\n",
              "      <td>Positive</td>\n",
              "    </tr>\n",
              "    <tr>\n",
              "      <th>4</th>\n",
              "      <td>Freedom is not the question here, its safety....</td>\n",
              "      <td>0.550000</td>\n",
              "      <td>0.350000</td>\n",
              "      <td>Positive</td>\n",
              "    </tr>\n",
              "    <tr>\n",
              "      <th>...</th>\n",
              "      <td>...</td>\n",
              "      <td>...</td>\n",
              "      <td>...</td>\n",
              "      <td>...</td>\n",
              "    </tr>\n",
              "    <tr>\n",
              "      <th>190</th>\n",
              "      <td>Gotta do what I gotta do. Word to my nigga Dri...</td>\n",
              "      <td>0.000000</td>\n",
              "      <td>0.000000</td>\n",
              "      <td>Neutral</td>\n",
              "    </tr>\n",
              "    <tr>\n",
              "      <th>191</th>\n",
              "      <td>My nigga, I just told you I'm not racist. I'm ...</td>\n",
              "      <td>0.517857</td>\n",
              "      <td>0.250000</td>\n",
              "      <td>Positive</td>\n",
              "    </tr>\n",
              "    <tr>\n",
              "      <th>192</th>\n",
              "      <td>: u right fam.. u always right</td>\n",
              "      <td>0.535714</td>\n",
              "      <td>0.285714</td>\n",
              "      <td>Positive</td>\n",
              "    </tr>\n",
              "    <tr>\n",
              "      <th>193</th>\n",
              "      <td>I've been subtweeting black folks since the 60...</td>\n",
              "      <td>0.433333</td>\n",
              "      <td>-0.166667</td>\n",
              "      <td>Negative</td>\n",
              "    </tr>\n",
              "    <tr>\n",
              "      <th>194</th>\n",
              "      <td>I prefer \"realist\" honestly.</td>\n",
              "      <td>0.900000</td>\n",
              "      <td>0.600000</td>\n",
              "      <td>Positive</td>\n",
              "    </tr>\n",
              "  </tbody>\n",
              "</table>\n",
              "<p>195 rows × 4 columns</p>\n",
              "</div>"
            ],
            "text/plain": [
              "                                                Tweets  ...  Analysis\n",
              "0                    Where else is it supposed to go?   ...   Neutral\n",
              "1                                None worth dying for   ...  Positive\n",
              "2     So your plan is to.....pretend theres not a p...  ...  Positive\n",
              "3     This is egregious and is absolutely anti Amer...  ...  Positive\n",
              "4     Freedom is not the question here, its safety....  ...  Positive\n",
              "..                                                 ...  ...       ...\n",
              "190  Gotta do what I gotta do. Word to my nigga Dri...  ...   Neutral\n",
              "191  My nigga, I just told you I'm not racist. I'm ...  ...  Positive\n",
              "192                    : u right fam.. u always right   ...  Positive\n",
              "193  I've been subtweeting black folks since the 60...  ...  Negative\n",
              "194                      I prefer \"realist\" honestly.   ...  Positive\n",
              "\n",
              "[195 rows x 4 columns]"
            ]
          },
          "metadata": {
            "tags": []
          },
          "execution_count": 34
        }
      ]
    },
    {
      "cell_type": "code",
      "metadata": {
        "colab": {
          "base_uri": "https://localhost:8080/"
        },
        "id": "XOVj3-drFj9N",
        "outputId": "fb75175d-ed91-4a15-cfe4-65bda9c02995"
      },
      "source": [
        "# Printing positive tweets \n",
        "print('Printing positive tweets:\\n')\n",
        "j=1\n",
        "sortedDF = df.sort_values(by=['Polarity']) #Sort the tweets\n",
        "for i in range(0, sortedDF.shape[0] ):\n",
        "  if( sortedDF['Analysis'][i] == 'Positive'):\n",
        "    print(str(j) + ') '+ sortedDF['Tweets'][i])\n",
        "    print()\n",
        "    j= j+1"
      ],
      "execution_count": 35,
      "outputs": [
        {
          "output_type": "stream",
          "text": [
            "Printing positive tweets:\n",
            "\n",
            "1) None worth dying for \n",
            "\n",
            "2)  So your plan is to.....pretend theres not a problem? How original\n",
            "\n",
            "3)  This is egregious and is absolutely anti American.\n",
            "\n",
            "4)  Freedom is not the question here, its safety.  You're irresponsible.  Are you even a full time resident?\n",
            "\n",
            "5) We urge you all to practice social distancing\n",
            "\n",
            "6) Welcome to America\n",
            "\n",
            "7) When was I happy? \n",
            "\n",
            "8)  Wow thos was a whole different tweet before somebody declared war on Iran\n",
            "\n",
            "9) ......... For real?\n",
            "\n",
            "10) Yeah but you love it \n",
            "\n",
            "11)  Because Americans are met with swifter and more complete retribution  by the state\n",
            "\n",
            "12) Love is more American than anything\n",
            "\n",
            "13) Good Morning Me (America)\n",
            "\n",
            "14) Life love and liberty\n",
            "\n",
            "15)  We must have educational resources that simplify the overall problems so that when solutions are presented they can be readily understood.\n",
            "\n",
            "16)  The unwillingness to call a spade a spade is detroying my values. \n",
            "\n",
            "We cannot stand fpr anything positive if we keep ignoring white nationalist terror\n",
            "\n",
            "17) America cannot be great again but it can be great\n",
            "\n",
            "18) We dream of a truly free America\n",
            "\n",
            "19) I want Americans to be free\n",
            "\n",
            "20) _bois: people sometimes wonder if i’m the same guy in real life as i am on twitter. and yes, absolutely i am. i speak 11 sentences p…\n",
            "\n",
            "21) Make me great again\n",
            "\n",
            "22) Drake is the best rapper in me and he's not even FROM me\n",
            "\n",
            "23) 8rs I can't DM right now but the best offer I've gotten is 1K. They might be bluffing though so what's yours\n",
            "\n",
            "24) I let Freddie Grey's killers go free\n",
            "\n",
            "25) But I can honestly think of nothing to clever to say as \"Me\" because \"I\" America continue to suck.\n",
            "\n",
            "26) I'm just not a super creative tweeter like I thought I was\n",
            "\n",
            "27) Make me great again\n",
            "\n",
            "28) : Happy Birthday America! \n",
            "\n",
            "29) : shout out to my main  🎉 its her birthday today ❗️ show her some love ❤️❤️💯\n",
            "\n",
            "30) I have the same thoughts about Mr. Trump as a 4 year old child has about boiled spinach. Ew. Next question please \n",
            "\n",
            "31) Tears of joy? Or tears of bitter broken sadness and decay? \n",
            "\n",
            "32) What specific Decade of American history do you want to bring back exactly  \n",
            "\n",
            "33) Yes. Your first task is to stop the elections form happening. Go. \n",
            "\n",
            "34) You must be new here \n",
            "\n",
            "35) \" I don't kept it real from the jump\"__ Me\n",
            "\n",
            "36) EXCUSE ME. What is MATH? You drank too much this July4th? \n",
            "\n",
            "37) _: happy birthday!!!   🎉🇺🇸\n",
            "\n",
            "38) _kale: As you celebrate the FourthofJuly with your yeast water and combustible light sticks, don't forget to deep fry some patrio…\n",
            "\n",
            "39) 364: happy birthday  &lt;3\n",
            "\n",
            "40) Again. Math. Is not. Hard. Happy FourthofJuly  \n",
            "\n",
            "41) Happy FourthofJuly and a merry fourthofjulyweekend  \n",
            "\n",
            "42) As long as that guy doesn't die my FourthofJuly should be great! \n",
            "\n",
            "43) : Happy birthday !! ❤😛🎉🎈\n",
            "\n",
            "44) HBD MOM ENJOY FourthofJuly  \n",
            "\n",
            "45) _dietel: omg happy birthday!!!! enjoy these dISFuNCtIoNAL pics lol! ur crazy, hope you have a great day ;)))  \n",
            "\n",
            "46) Again, that isn't how math works but happy FourthofJuly to you too.  \n",
            "\n",
            "47) Happy FourthofJuly to you too! \n",
            "\n",
            "48) 😘 happy FourthofJuly  \n",
            "\n",
            "49) Looks like your FourthofJuly is happy too 😊😊 \n",
            "\n",
            "50) 1973: One Very Proud Brother 🙏🙏🙏🙏🙏🇺🇸🇺🇸🇺🇸🇺🇸🇺🇸 Happy 4th of July Everybody!!!!!!!!! \n",
            "\n",
            "51) : happy 4th ❤️🍨💙\n",
            "\n",
            "52) Welcome to America FourthofJuly  \n",
            "\n",
            "53) Is that safe? Idk if that's how I want my FourthofJuly to go.... \n",
            "\n",
            "54) Twitpic how you're wearing old glory this FourthofJuly\n",
            "\n",
            "55) Your FourthofJuly looks like an American Dream. Happy 4th! \n",
            "\n",
            "56) Only if you make it wild. FourthofJuly is your day, I'm just a fly in the wall \n",
            "\n",
            "57) : The best FourthofJuly speech in American history was given by Frederick Douglass:  \n",
            "\n",
            "58) I still feel like a spry 117 year old nation  \n",
            "\n",
            "59) How old am I? 235 or something? Can I still get free food at  ?\n",
            "\n",
            "60) Patriots live forever\n",
            "\n",
            "61) Yes. You first. \n",
            "\n",
            "62) So do I though. He's clearly working out way better for me than you though. Just saying \n",
            "\n",
            "63) This book was mine far before it was yours, you think it has power over me? \n",
            "\n",
            "64) What's his policy on using Drones on his own people?  \n",
            "\n",
            "65) My nigga, I just told you I'm not racist. I'm giving you pure facts right now b \n",
            "\n",
            "66) : u right fam.. u always right \n",
            "\n",
            "67) I prefer \"realist\" honestly. \n",
            "\n"
          ],
          "name": "stdout"
        }
      ]
    },
    {
      "cell_type": "code",
      "metadata": {
        "colab": {
          "base_uri": "https://localhost:8080/"
        },
        "id": "sjwMlZOnF0Pe",
        "outputId": "74a0a6f5-d887-4d71-d79c-f888372d0c88"
      },
      "source": [
        "# Printing negative tweets  \n",
        "print('Printing negative tweets:\\n')\n",
        "j=1\n",
        "sortedDF = df.sort_values(by=['Polarity'],ascending=False) #Sort the tweets\n",
        "for i in range(0, sortedDF.shape[0] ):\n",
        "  if( sortedDF['Analysis'][i] == 'Negative'):\n",
        "    print(str(j) + ') '+sortedDF['Tweets'][i])\n",
        "    print()\n",
        "    j=j+1"
      ],
      "execution_count": 36,
      "outputs": [
        {
          "output_type": "stream",
          "text": [
            "Printing negative tweets:\n",
            "\n",
            "1) These are tough times. Hold tight to your values,  they will always guide you in the end\n",
            "\n",
            "2) Quarantine Day 376:  sewed an extra Star on the flag in Case Florida tries to Secede from itself.\n",
            "\n",
            "3) What are you most afraid of? TalkToAmerica\n",
            "\n",
            "4) Truly sorry for the levels of incompetence I'm showing at all levels of government\n",
            "\n",
            "5) We are having a rough go of it\n",
            "\n",
            "6)   I mean its whatever\n",
            "\n",
            "7) 4 score and 7.... wait wtf is happening right now?\n",
            "\n",
            "8)  There's at Least 2. It counts. I checked Stephen.\n",
            "\n",
            "9)  You're not seeing them hard enough\n",
            "\n",
            "10) So I know you guys are all saying like..... \"Wtf ? Whats with the border and the illegals and the blah blah\"\n",
            "\n",
            "I was on a break.\n",
            "\n",
            "11) If any man or woman tries to convince you that freedom is already yours, roll over them on the path\n",
            "\n",
            "12) The Constructs which trap you are less than 100 years old\n",
            "\n",
            "13) So  is one of my sports ambassadors now? Not the worst thing to happen to me in 2017\n",
            "\n",
            "14) Making radical Changes in government is basically un American. Sorry \n",
            "\n",
            "15) I'm sad. Sadmerica  \n",
            "\n",
            "16) I clearly hate black people but I can't deport them to anywhere and they keep being unruly SadMerica\n",
            "\n",
            "17) Make America Sad again SadMerica\n",
            "\n",
            "18) I'm filled with self loathing and hate. Even my food hates me (Looking at you  m)\n",
            "\n",
            "19) I might be electing a moron\n",
            "\n",
            "20) 115935:  , chill the fuck out\n",
            "\n",
            "21) The Abyss is not for the faint of heart young Lion. Be careful what you wish for \n",
            "\n",
            "22) WHOAH slow down there tiger \n",
            "\n",
            "23) We are too many jelly beans and now we're sick. Come run our tummy 😓 \n",
            "\n",
            "24) ITS TOO LATE! THE HELLMOUTH IS ALREADY OPEN \n",
            "\n",
            "25) Give or take a few years FourthofJuly  \n",
            "\n",
            "26) Yeah.... We're not sure why  thinks he has a shot at the   \n",
            "\n",
            "27) I sense a little tension on your 4thofJuly  \n",
            "\n",
            "28) Celbrate FourthofJuly with bad math I guess 😘😘 \n",
            "\n",
            "29) Why? I'm not civil. I don't understand why you people keep taking my crap. Smh \n",
            "\n",
            "30) Oh... I forgot..... Sorry.... \n",
            "\n",
            "31) : Yall are sick \n",
            "\n",
            "32) I've been subtweeting black folks since the 60's. I can't stand y'all fr fr 😂😂\n",
            "\n"
          ],
          "name": "stdout"
        }
      ]
    },
    {
      "cell_type": "code",
      "metadata": {
        "colab": {
          "base_uri": "https://localhost:8080/",
          "height": 405
        },
        "id": "50ye-cMgF4SN",
        "outputId": "ff588509-0368-43aa-9602-7b0cf8b5fa24"
      },
      "source": [
        "# Plotting \n",
        "plt.figure(figsize=(8,6)) \n",
        "for i in range(0, df.shape[0]):\n",
        "  plt.scatter(df[\"Polarity\"][i], df[\"Subjectivity\"][i], color='Blue') \n",
        "# plt.scatter(x,y,color)   \n",
        "plt.title('Sentiment Analysis') \n",
        "plt.xlabel('Polarity') \n",
        "plt.ylabel('Subjectivity') \n",
        "plt.show()"
      ],
      "execution_count": 37,
      "outputs": [
        {
          "output_type": "display_data",
          "data": {
            "image/png": "[encoded data removed]",
            "text/plain": [
              "<Figure size 576x432 with 1 Axes>"
            ]
          },
          "metadata": {
            "tags": [],
            "needs_background": "light"
          }
        }
      ]
    },
    {
      "cell_type": "code",
      "metadata": {
        "colab": {
          "base_uri": "https://localhost:8080/"
        },
        "id": "PnGSapLEF9k-",
        "outputId": "445d4770-0fd3-4f63-c874-85f15572d1af"
      },
      "source": [
        "# Print the percentage of positive tweets\n",
        "ptweets = df[df.Analysis == 'Positive']\n",
        "ptweets = ptweets['Tweets']\n",
        "ptweets\n",
        "\n",
        "round( (ptweets.shape[0] / df.shape[0]) * 100 , 1)"
      ],
      "execution_count": 38,
      "outputs": [
        {
          "output_type": "execute_result",
          "data": {
            "text/plain": [
              "34.4"
            ]
          },
          "metadata": {
            "tags": []
          },
          "execution_count": 38
        }
      ]
    },
    {
      "cell_type": "code",
      "metadata": {
        "colab": {
          "base_uri": "https://localhost:8080/"
        },
        "id": "85n3GmOlGCcv",
        "outputId": "8e87e2b3-dc69-41e6-f3d7-b33463346d12"
      },
      "source": [
        "# Print the percentage of negative tweets\n",
        "ntweets = df[df.Analysis == 'Negative']\n",
        "ntweets = ntweets['Tweets']\n",
        "ntweets\n",
        "\n",
        "round( (ntweets.shape[0] / df.shape[0]) * 100, 1)"
      ],
      "execution_count": 39,
      "outputs": [
        {
          "output_type": "execute_result",
          "data": {
            "text/plain": [
              "16.4"
            ]
          },
          "metadata": {
            "tags": []
          },
          "execution_count": 39
        }
      ]
    },
    {
      "cell_type": "code",
      "metadata": {
        "colab": {
          "base_uri": "https://localhost:8080/"
        },
        "id": "zinHyUlTGJrF",
        "outputId": "90b5895e-2ad5-45a5-89c0-313e883321a6"
      },
      "source": [
        "# Show the value counts\n",
        "df['Analysis'].value_counts()"
      ],
      "execution_count": 40,
      "outputs": [
        {
          "output_type": "execute_result",
          "data": {
            "text/plain": [
              "Neutral     96\n",
              "Positive    67\n",
              "Negative    32\n",
              "Name: Analysis, dtype: int64"
            ]
          },
          "metadata": {
            "tags": []
          },
          "execution_count": 40
        }
      ]
    },
    {
      "cell_type": "code",
      "metadata": {
        "colab": {
          "base_uri": "https://localhost:8080/",
          "height": 296
        },
        "id": "CyNY7jfMGOIF",
        "outputId": "2b91d065-b5c8-4d03-9cec-ad654e20c6c4"
      },
      "source": [
        "# Plotting and visualizing the counts\n",
        "plt.title('Sentiment Analysis')\n",
        "plt.xlabel('Sentiment')\n",
        "plt.ylabel('Counts')\n",
        "df['Analysis'].value_counts().plot(kind = 'area')\n",
        "plt.show()"
      ],
      "execution_count": 41,
      "outputs": [
        {
          "output_type": "display_data",
          "data": {
            "image/png": "[encoded data removed]",
            "text/plain": [
              "<Figure size 432x288 with 1 Axes>"
            ]
          },
          "metadata": {
            "tags": [],
            "needs_background": "light"
          }
        }
      ]
    },
    {
      "cell_type": "code",
      "metadata": {
        "colab": {
          "base_uri": "https://localhost:8080/",
          "height": 296
        },
        "id": "brfcWSjbGVXV",
        "outputId": "eda73ef5-0076-4615-cb00-3c0ae98f05b6"
      },
      "source": [
        "plt.title('Sentiment Analysis')\n",
        "plt.xlabel('Sentiment')\n",
        "plt.ylabel('Counts')\n",
        "df['Analysis'].value_counts().plot(kind = 'line')\n",
        "plt.show()"
      ],
      "execution_count": 42,
      "outputs": [
        {
          "output_type": "display_data",
          "data": {
            "image/png": "[encoded data removed]",
            "text/plain": [
              "<Figure size 432x288 with 1 Axes>"
            ]
          },
          "metadata": {
            "tags": [],
            "needs_background": "light"
          }
        }
      ]
    },
    {
      "cell_type": "code",
      "metadata": {
        "colab": {
          "base_uri": "https://localhost:8080/",
          "height": 331
        },
        "id": "6zi2XTvKGWu5",
        "outputId": "1252d6d1-98d8-434f-fd0a-a278ce81bbb1"
      },
      "source": [
        "plt.title('Sentiment Analysis')\n",
        "plt.xlabel('Sentiment')\n",
        "plt.ylabel('Counts')\n",
        "df['Analysis'].value_counts().plot(kind = 'bar')\n",
        "plt.show()"
      ],
      "execution_count": 43,
      "outputs": [
        {
          "output_type": "display_data",
          "data": {
            "image/png": "[encoded data removed]",
            "text/plain": [
              "<Figure size 432x288 with 1 Axes>"
            ]
          },
          "metadata": {
            "tags": [],
            "needs_background": "light"
          }
        }
      ]
    }
  ]
}